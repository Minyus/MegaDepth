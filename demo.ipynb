{
  "nbformat": 4,
  "nbformat_minor": 0,
  "metadata": {
    "colab": {
      "name": "demo.ipynb",
      "version": "0.3.2",
      "provenance": [],
      "collapsed_sections": []
    },
    "kernelspec": {
      "name": "python3",
      "display_name": "Python 3"
    },
    "accelerator": "GPU"
  },
  "cells": [
    {
      "metadata": {
        "id": "z0-bJaKZeZLs",
        "colab_type": "code",
        "colab": {
          "base_uri": "https://localhost:8080/",
          "height": 714
        },
        "outputId": "820e50b5-7e93-4fbd-a340-2e59c458255d"
      },
      "cell_type": "code",
      "source": [
        "\"\"\" To use Google Drive with Colab, \n",
        "1. set use_google_drive to True, and\n",
        "2. specify a directory in Google Drive (Modify as in your Google Drive)\n",
        "(You will need to authorize manually.)\n",
        "\"\"\"\n",
        "use_google_drive = True\n",
        "workdir = '/content/drive/My Drive/Colab/MegaDepth/'\n",
        "\n",
        "\n",
        "import os\n",
        "\n",
        "try:\n",
        "    if use_google_drive:\n",
        "        from google.colab import drive\n",
        "        drive.mount('/content/drive')\n",
        "        # Create target directory & all intermediate directories if don't exists\n",
        "        if not os.path.exists(workdir):\n",
        "            os.makedirs(workdir)\n",
        "            print('## Directory: ' , workdir ,  ' was created.') \n",
        "        os.chdir(workdir)\n",
        "        print('## Current working directory: ', os.getcwd())\n",
        "except:\n",
        "    print('Run the code without using Google Drive.')\n",
        "        \n",
        "try:    \n",
        "    print('## Check the uptime. (Google Colab reboots every 12 hours)')\n",
        "    !cat /proc/uptime | awk '{print \"Uptime is \" $1 /60 /60 \" hours (\" $1 \" sec)\"}'\n",
        "    print('## Check the GPU info')\n",
        "    !nvidia-smi\n",
        "    print('## Check the OS') \n",
        "    !cat /etc/issue\n",
        "    print('## Check the Python version') \n",
        "    !python --version\n",
        "    print('## Check the memory')\n",
        "    !free -h\n",
        "    print('## Check the disk')\n",
        "    !df -h\n",
        "except:\n",
        "    print('Run the code assuming the environment is not Google Colab.')"
      ],
      "execution_count": 1,
      "outputs": [
        {
          "output_type": "stream",
          "text": [
            "Drive already mounted at /content/drive; to attempt to forcibly remount, call drive.mount(\"/content/drive\", force_remount=True).\n",
            "## Current working directory:  /content/drive/My Drive/Colab/MegaDepth\n",
            "## Check the uptime. (Google Colab reboots every 12 hours)\n",
            "Uptime is 3.78997 hours (13643.90 sec)\n",
            "## Check the GPU info\n",
            "Sun Apr 21 09:49:19 2019       \n",
            "+-----------------------------------------------------------------------------+\n",
            "| NVIDIA-SMI 418.56       Driver Version: 410.79       CUDA Version: 10.0     |\n",
            "|-------------------------------+----------------------+----------------------+\n",
            "| GPU  Name        Persistence-M| Bus-Id        Disp.A | Volatile Uncorr. ECC |\n",
            "| Fan  Temp  Perf  Pwr:Usage/Cap|         Memory-Usage | GPU-Util  Compute M. |\n",
            "|===============================+======================+======================|\n",
            "|   0  Tesla T4            Off  | 00000000:00:04.0 Off |                    0 |\n",
            "| N/A   65C    P8    17W /  70W |      0MiB / 15079MiB |      0%      Default |\n",
            "+-------------------------------+----------------------+----------------------+\n",
            "                                                                               \n",
            "+-----------------------------------------------------------------------------+\n",
            "| Processes:                                                       GPU Memory |\n",
            "|  GPU       PID   Type   Process name                             Usage      |\n",
            "|=============================================================================|\n",
            "|  No running processes found                                                 |\n",
            "+-----------------------------------------------------------------------------+\n",
            "## Check the OS\n",
            "Ubuntu 18.04.2 LTS \\n \\l\n",
            "\n",
            "## Check the Python version\n",
            "Python 3.6.7\n",
            "## Check the memory\n",
            "              total        used        free      shared  buff/cache   available\n",
            "Mem:            12G        440M        9.2G        912K        3.0G         12G\n",
            "Swap:            0B          0B          0B\n",
            "## Check the disk\n",
            "Filesystem      Size  Used Avail Use% Mounted on\n",
            "overlay         359G   23G  318G   7% /\n",
            "tmpfs           6.4G     0  6.4G   0% /dev\n",
            "tmpfs           6.4G     0  6.4G   0% /sys/fs/cgroup\n",
            "tmpfs           6.4G   12K  6.4G   1% /var/colab\n",
            "/dev/sda1       365G   28G  338G   8% /opt/bin\n",
            "shm             6.0G     0  6.0G   0% /dev/shm\n",
            "tmpfs           6.4G     0  6.4G   0% /sys/firmware\n",
            "drive           200G  125G   76G  63% /content/drive\n"
          ],
          "name": "stdout"
        }
      ]
    },
    {
      "metadata": {
        "id": "HRwD4ODFfbPf",
        "colab_type": "code",
        "colab": {
          "base_uri": "https://localhost:8080/",
          "height": 258
        },
        "outputId": "e70f5403-d291-46e4-860e-e2408e6817c5"
      },
      "cell_type": "code",
      "source": [
        "import torch\n",
        "import sys\n",
        "from torch.autograd import Variable\n",
        "import numpy as np\n",
        "# from options.train_options import TrainOptions\n",
        "# opt = TrainOptions().parse()  # set CUDA_VISIBLE_DEVICES before import torch\n",
        "# from options.test_options import TestOptions\n",
        "# opt = TestOptions().parse()  # set CUDA_VISIBLE_DEVICES before import torch\n",
        "import easydict\n",
        "opt = easydict.EasyDict({\n",
        "    'gpu_ids': '0',\n",
        "    'isTrain': False,\n",
        "    'checkpoints_dir': './checkpoints/',\n",
        "    'name': 'test_local'\n",
        "})\n",
        "\n",
        "from data.data_loader import CreateDataLoader\n",
        "from models.models import create_model\n",
        "from skimage import io\n",
        "from skimage.transform import resize\n",
        "\n",
        "\n",
        "img_path = 'demo.jpg'\n",
        "\n",
        "model = create_model(opt)\n",
        "\n",
        "input_height = 384\n",
        "input_width  = 512\n",
        "\n",
        "\n",
        "def test_simple(model):\n",
        "    total_loss =0 \n",
        "    toal_count = 0\n",
        "    print(\"============================= TEST ============================\")\n",
        "    model.switch_to_eval()\n",
        "\n",
        "    img = np.float32(io.imread(img_path))/255.0\n",
        "    img = resize(img, (input_height, input_width), order = 1)\n",
        "    input_img =  torch.from_numpy( np.transpose(img, (2,0,1)) ).contiguous().float()\n",
        "    input_img = input_img.unsqueeze(0)\n",
        "\n",
        "    input_images = Variable(input_img.cuda() )\n",
        "    pred_log_depth = model.netG.forward(input_images) \n",
        "    pred_log_depth = torch.squeeze(pred_log_depth)\n",
        "\n",
        "    pred_depth = torch.exp(pred_log_depth)\n",
        "\n",
        "    # visualize prediction using inverse depth, so that we don't need sky segmentation (if you want to use RGB map for visualization, \\\n",
        "    # you have to run semantic segmentation to mask the sky first since the depth of sky is random from CNN)\n",
        "    pred_inv_depth = 1/pred_depth\n",
        "    pred_inv_depth = pred_inv_depth.data.cpu().numpy()\n",
        "    # you might also use percentile for better visualization\n",
        "    pred_inv_depth = pred_inv_depth/np.amax(pred_inv_depth)\n",
        "\n",
        "    io.imsave('demo.png', pred_inv_depth)\n",
        "    # print(pred_inv_depth.shape)\n",
        "#     sys.exit()\n",
        "\n",
        "\n",
        "\n",
        "test_simple(model)\n",
        "print(\"We are done\")\n"
      ],
      "execution_count": 2,
      "outputs": [
        {
          "output_type": "stream",
          "text": [
            "===========================================LOADING Hourglass NETWORK====================================================\n",
            "./checkpoints/test_local/best_generalization_net_G.pth\n",
            "model [HGModel] was created\n",
            "============================= TEST ============================\n"
          ],
          "name": "stdout"
        },
        {
          "output_type": "stream",
          "text": [
            "/usr/local/lib/python3.6/dist-packages/skimage/transform/_warps.py:105: UserWarning: The default mode, 'constant', will be changed to 'reflect' in skimage 0.15.\n",
            "  warn(\"The default mode, 'constant', will be changed to 'reflect' in \"\n",
            "/usr/local/lib/python3.6/dist-packages/skimage/transform/_warps.py:110: UserWarning: Anti-aliasing will be enabled by default in skimage 0.15 to avoid aliasing artifacts when down-sampling images.\n",
            "  warn(\"Anti-aliasing will be enabled by default in skimage 0.15 to \"\n",
            "/usr/local/lib/python3.6/dist-packages/torch/nn/modules/upsampling.py:129: UserWarning: nn.UpsamplingNearest2d is deprecated. Use nn.functional.interpolate instead.\n",
            "  warnings.warn(\"nn.{} is deprecated. Use nn.functional.interpolate instead.\".format(self.name))\n"
          ],
          "name": "stderr"
        },
        {
          "output_type": "stream",
          "text": [
            "We are done\n"
          ],
          "name": "stdout"
        },
        {
          "output_type": "stream",
          "text": [
            "/usr/local/lib/python3.6/dist-packages/skimage/util/dtype.py:141: UserWarning: Possible precision loss when converting from float32 to uint16\n",
            "  .format(dtypeobj_in, dtypeobj_out))\n"
          ],
          "name": "stderr"
        }
      ]
    }
  ]
}